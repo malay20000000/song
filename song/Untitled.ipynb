{
 "cells": [
  {
   "cell_type": "code",
   "execution_count": 6,
   "id": "fc9e6673-38c3-4e62-876b-c95dcccbcb5f",
   "metadata": {},
   "outputs": [
    {
     "name": "stdout",
     "output_type": "stream",
     "text": [
      "Recommendations for 'Mercury: Retrograde': ['Kid Cudi (Remix)'\n",
      " 'FRANCHISE (feat. Future, Young Thug & M.I.A.) - REMIX' 'Run Boy Run!'\n",
      " 'EXORCIST' 'P-R-E-Y']\n"
     ]
    },
    {
     "name": "stderr",
     "output_type": "stream",
     "text": [
      "C:\\Users\\sanjeev D\\AppData\\Local\\Temp\\ipykernel_12496\\675044443.py:7: DtypeWarning: Columns (19) have mixed types. Specify dtype option on import or set low_memory=False.\n",
      "  genres_df = pd.read_csv(\"genres_v2.csv\")\n"
     ]
    }
   ],
   "source": [
    "import pandas as pd\n",
    "from sklearn.preprocessing import MinMaxScaler\n",
    "from sklearn.decomposition import PCA\n",
    "from sklearn.neighbors import NearestNeighbors\n",
    "\n",
    "# Load the dataset\n",
    "genres_df = pd.read_csv(\"genres_v2.csv\")\n",
    "\n",
    "# Select audio features for similarity\n",
    "audio_features = ['danceability', 'energy', 'loudness', 'speechiness', \n",
    "                  'acousticness', 'instrumentalness', 'liveness', 'valence', 'tempo']\n",
    "\n",
    "# Drop rows with missing values in the selected features\n",
    "genres_df_cleaned = genres_df.dropna(subset=audio_features)\n",
    "\n",
    "# Remove duplicate songs based on 'song_name'\n",
    "genres_df_cleaned = genres_df_cleaned.drop_duplicates(subset='song_name', keep='first')\n",
    "\n",
    "# Normalize the audio features\n",
    "scaler = MinMaxScaler()\n",
    "genres_df_cleaned[audio_features] = scaler.fit_transform(genres_df_cleaned[audio_features])\n",
    "\n",
    "# Dimensionality reduction\n",
    "pca = PCA(n_components=0.95)  # Retain 95% variance\n",
    "reduced_features = pca.fit_transform(genres_df_cleaned[audio_features])\n",
    "\n",
    "# Train the NearestNeighbors model\n",
    "knn_model = NearestNeighbors(metric='cosine', algorithm='auto')\n",
    "knn_model.fit(reduced_features)\n",
    "\n",
    "# Create a mapping of song names to indices\n",
    "song_name_to_idx = {name: idx for idx, name in enumerate(genres_df_cleaned['song_name'])}\n",
    "\n",
    "# Define the recommendation function\n",
    "def recommend_songs(song_name, top_n=5):\n",
    "    \"\"\"\n",
    "    Recommend similar songs based on a given song's name.\n",
    "\n",
    "    Parameters:\n",
    "        song_name (str): The name of the input song.\n",
    "        top_n (int): Number of similar songs to recommend.\n",
    "\n",
    "    Returns:\n",
    "        list: Recommended song names or a message if the song is not found.\n",
    "    \"\"\"\n",
    "    if song_name not in song_name_to_idx:\n",
    "        return f\"Song '{song_name}' not found in the dataset.\"\n",
    "    \n",
    "    # Get the index of the song\n",
    "    song_idx = song_name_to_idx[song_name]\n",
    "    \n",
    "    # Find similar songs\n",
    "    distances, indices = knn_model.kneighbors([reduced_features[song_idx]], n_neighbors=top_n+1)\n",
    "    \n",
    "    # Exclude the input song from the recommendations\n",
    "    recommended_indices = [i for i in indices[0] if i != song_idx]\n",
    "    \n",
    "    # Get recommended song names (up to the desired number)\n",
    "    similar_songs = genres_df_cleaned.iloc[recommended_indices[:top_n]]['song_name'].values\n",
    "    return similar_songs\n",
    "\n",
    "# Test the recommendation system\n",
    "example_song = 'Mercury: Retrograde'  # Replace with any song name in the dataset\n",
    "recommended_songs = recommend_songs(example_song, top_n=5)\n",
    "\n",
    "print(f\"Recommendations for '{example_song}': {recommended_songs}\")\n"
   ]
  },
  {
   "cell_type": "code",
   "execution_count": null,
   "id": "dcb3dfbe-abcc-4fdd-9d8e-e5be8b3e5d13",
   "metadata": {},
   "outputs": [],
   "source": []
  }
 ],
 "metadata": {
  "kernelspec": {
   "display_name": "Python 3 (ipykernel)",
   "language": "python",
   "name": "python3"
  },
  "language_info": {
   "codemirror_mode": {
    "name": "ipython",
    "version": 3
   },
   "file_extension": ".py",
   "mimetype": "text/x-python",
   "name": "python",
   "nbconvert_exporter": "python",
   "pygments_lexer": "ipython3",
   "version": "3.12.3"
  }
 },
 "nbformat": 4,
 "nbformat_minor": 5
}
